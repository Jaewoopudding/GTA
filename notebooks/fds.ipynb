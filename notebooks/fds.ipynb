{
 "cells": [
  {
   "cell_type": "code",
   "execution_count": 122,
   "metadata": {},
   "outputs": [],
   "source": [
    "import sys\n",
    "sys.path.append('..')\n",
    "from src.model.components.decision_transformer.utils import D4RLTrajectoryDataset\n",
    "\n",
    "from src.model.components.commons.utils import compute_mean_std, normalize_states, extend_and_repeat, extend_and_repeat\n",
    "from src.model.components.commons.utils import wrap_env, set_seed, wandb_init, eval_actor, modify_reward, init_module_weights\n",
    "from src.model.components.commons.utils import ReplayBuffer, TensorBatch"
   ]
  },
  {
   "cell_type": "code",
   "execution_count": 133,
   "metadata": {},
   "outputs": [],
   "source": [
    "dataset = D4RLTrajectoryDataset('/home/jaewoo/practices/diffusers/Augmentation-For-OfflineRL/data/halfcheetah-medium-expert-v2.pkl', 30, 1000)\n",
    "b = dataset.trajectories"
   ]
  },
  {
   "cell_type": "code",
   "execution_count": 134,
   "metadata": {},
   "outputs": [],
   "source": [
    "\n",
    "result_dict = {}\n",
    "import numpy as np\n",
    "# 리스트의 각 딕셔너리를 순회하며 키별로 값을 더함\n",
    "for d in b:\n",
    "    for key, value in d.items():\n",
    "        if key in result_dict:\n",
    "            result_dict[key] = np.concatenate((result_dict[key], value), axis=0)\n",
    "        else:\n",
    "            result_dict[key] = value"
   ]
  },
  {
   "cell_type": "code",
   "execution_count": 152,
   "metadata": {},
   "outputs": [
    {
     "data": {
      "text/plain": [
       "dict_keys(['observations', 'next_observations', 'actions', 'rewards', 'terminals', 'returns_to_go'])"
      ]
     },
     "execution_count": 152,
     "metadata": {},
     "output_type": "execute_result"
    }
   ],
   "source": [
    "result_dict.keys()"
   ]
  },
  {
   "cell_type": "code",
   "execution_count": 135,
   "metadata": {},
   "outputs": [
    {
     "name": "stdout",
     "output_type": "stream",
     "text": [
      "44.669758\n",
      "-9.422874\n",
      "1.0\n",
      "-1.0\n",
      "13.854624\n",
      "-3.0135136\n"
     ]
    }
   ],
   "source": [
    "print(result_dict['observations'].max())\n",
    "print(result_dict['observations'].min())\n",
    "print(result_dict['actions'].max())\n",
    "print(result_dict['actions'].min())\n",
    "print(result_dict['rewards'].max())\n",
    "print(result_dict['rewards'].min())"
   ]
  },
  {
   "cell_type": "code",
   "execution_count": 136,
   "metadata": {},
   "outputs": [
    {
     "name": "stdout",
     "output_type": "stream",
     "text": [
      "dict_keys(['observations', 'next_observations', 'actions', 'rewards', 'terminals', 'returns_to_go'])\n",
      "dict_keys(['observations', 'next_observations', 'actions', 'rewards', 'terminals', 'returns_to_go'])\n",
      "dict_keys(['observations', 'next_observations', 'actions', 'rewards', 'terminals', 'returns_to_go'])\n"
     ]
    }
   ],
   "source": [
    "modify_reward(result_dict, 'halfcheetah-medium-expert-v2')"
   ]
  },
  {
   "cell_type": "code",
   "execution_count": 147,
   "metadata": {},
   "outputs": [
    {
     "name": "stdout",
     "output_type": "stream",
     "text": [
      "44.669758\n",
      "-9.422874\n",
      "-0.000117633375\n",
      "1.0007164\n",
      "1.0\n",
      "-1.0\n",
      "1.1982615\n",
      "-0.26063338\n"
     ]
    }
   ],
   "source": [
    "print(result_dict['observations'].max())\n",
    "print(result_dict['observations'].min())\n",
    "print(result_dict['observations'].mean())\n",
    "print(result_dict['observations'].std())\n",
    "print(result_dict['actions'].max())\n",
    "print(result_dict['actions'].min())\n",
    "print(result_dict['rewards'].max())\n",
    "print(result_dict['rewards'].min())"
   ]
  },
  {
   "cell_type": "code",
   "execution_count": null,
   "metadata": {},
   "outputs": [],
   "source": []
  },
  {
   "cell_type": "code",
   "execution_count": null,
   "metadata": {},
   "outputs": [],
   "source": []
  },
  {
   "cell_type": "code",
   "execution_count": 138,
   "metadata": {},
   "outputs": [],
   "source": [
    "with open('/home/jaewoo/practices/diffusers/Augmentation-For-OfflineRL/data/halfcheetah-medium-expert-v2.pkl','rb') as f:\n",
    "    import pickle\n",
    "    data = pickle.load(f)"
   ]
  },
  {
   "cell_type": "code",
   "execution_count": 141,
   "metadata": {},
   "outputs": [],
   "source": [
    "result_dict2 = {}\n",
    "import numpy as np\n",
    "# 리스트의 각 딕셔너리를 순회하며 키별로 값을 더함\n",
    "for d in data:\n",
    "    for key, value in d.items():\n",
    "        if key in result_dict2:\n",
    "            result_dict2[key] = np.concatenate((result_dict2[key], value), axis=0)\n",
    "        else:\n",
    "            result_dict2[key] = value"
   ]
  },
  {
   "cell_type": "code",
   "execution_count": 142,
   "metadata": {},
   "outputs": [
    {
     "name": "stdout",
     "output_type": "stream",
     "text": [
      "44.669758\n",
      "-9.422874\n",
      "1.0\n",
      "-1.0\n",
      "1.1982615\n",
      "-0.26063338\n"
     ]
    }
   ],
   "source": [
    "print(result_dict['observations'].max())\n",
    "print(result_dict['observations'].min())\n",
    "print(result_dict['actions'].max())\n",
    "print(result_dict['actions'].min())\n",
    "print(result_dict['rewards'].max())\n",
    "print(result_dict['rewards'].min())"
   ]
  },
  {
   "cell_type": "code",
   "execution_count": null,
   "metadata": {},
   "outputs": [],
   "source": []
  },
  {
   "cell_type": "code",
   "execution_count": null,
   "metadata": {},
   "outputs": [],
   "source": []
  },
  {
   "cell_type": "code",
   "execution_count": 143,
   "metadata": {},
   "outputs": [
    {
     "name": "stderr",
     "output_type": "stream",
     "text": [
      "/home/jaewoo/anaconda3/envs/augmentation/lib/python3.7/site-packages/gym/spaces/box.py:84: UserWarning: \u001b[33mWARN: Box bound precision lowered by casting to float32\u001b[0m\n",
      "  logger.warn(f\"Box bound precision lowered by casting to {self.dtype}\")\n",
      "load datafile: 100%|██████████| 9/9 [00:03<00:00,  2.45it/s]\n"
     ]
    }
   ],
   "source": [
    "import gym\n",
    "env = gym.make(\"halfcheetah-medium-expert-v2\")\n",
    "\n",
    "ds = d4rl.qlearning_dataset(env)"
   ]
  },
  {
   "cell_type": "code",
   "execution_count": 146,
   "metadata": {},
   "outputs": [
    {
     "name": "stdout",
     "output_type": "stream",
     "text": [
      "31.478853\n",
      "-32.988655\n",
      "0.48144776\n",
      "5.6200495\n",
      "1.0\n",
      "-1.0\n",
      "13.854624\n",
      "-3.0135136\n"
     ]
    }
   ],
   "source": [
    "print(ds['observations'].max())\n",
    "print(ds['observations'].min())\n",
    "print(ds['observations'].mean())\n",
    "print(ds['observations'].std())\n",
    "print(ds['actions'].max())\n",
    "print(ds['actions'].min())\n",
    "print(ds['rewards'].max())\n",
    "print(ds['rewards'].min())"
   ]
  },
  {
   "cell_type": "code",
   "execution_count": 148,
   "metadata": {},
   "outputs": [],
   "source": [
    "\n",
    "state_mean, state_std = compute_mean_std(ds[\"observations\"], eps=1e-3)\n",
    "ds[\"observations\"] = normalize_states(\n",
    "        ds[\"observations\"], state_mean, state_std\n",
    ")"
   ]
  },
  {
   "cell_type": "code",
   "execution_count": 149,
   "metadata": {},
   "outputs": [
    {
     "name": "stdout",
     "output_type": "stream",
     "text": [
      "44.57319\n",
      "-9.402407\n",
      "-0.000117424555\n",
      "0.9983928\n",
      "1.0\n",
      "-1.0\n",
      "13.854624\n",
      "-3.0135136\n"
     ]
    }
   ],
   "source": [
    "print(ds['observations'].max())\n",
    "print(ds['observations'].min())\n",
    "print(ds['observations'].mean())\n",
    "print(ds['observations'].std())\n",
    "print(ds['actions'].max())\n",
    "print(ds['actions'].min())\n",
    "print(ds['rewards'].max())\n",
    "print(ds['rewards'].min())"
   ]
  },
  {
   "cell_type": "code",
   "execution_count": 150,
   "metadata": {},
   "outputs": [
    {
     "name": "stdout",
     "output_type": "stream",
     "text": [
      "dict_keys(['observations', 'actions', 'next_observations', 'rewards', 'terminals'])\n",
      "dict_keys(['observations', 'actions', 'next_observations', 'rewards', 'terminals'])\n",
      "dict_keys(['observations', 'actions', 'next_observations', 'rewards', 'terminals'])\n"
     ]
    }
   ],
   "source": [
    "modify_reward(ds, 'halfcheetah-medium-expert-v2')"
   ]
  },
  {
   "cell_type": "code",
   "execution_count": 151,
   "metadata": {},
   "outputs": [
    {
     "name": "stdout",
     "output_type": "stream",
     "text": [
      "44.57319\n",
      "-9.402407\n",
      "-0.000117424555\n",
      "0.9983928\n",
      "1.0\n",
      "-1.0\n",
      "1.2905824\n",
      "-0.28071406\n"
     ]
    }
   ],
   "source": [
    "print(ds['observations'].max())\n",
    "print(ds['observations'].min())\n",
    "print(ds['observations'].mean())\n",
    "print(ds['observations'].std())\n",
    "print(ds['actions'].max())\n",
    "print(ds['actions'].min())\n",
    "print(ds['rewards'].max())\n",
    "print(ds['rewards'].min())"
   ]
  },
  {
   "cell_type": "code",
   "execution_count": 1,
   "metadata": {},
   "outputs": [],
   "source": [
    "import gym"
   ]
  },
  {
   "cell_type": "code",
   "execution_count": 60,
   "metadata": {},
   "outputs": [
    {
     "data": {
      "text/plain": [
       "'0.23.0'"
      ]
     },
     "execution_count": 60,
     "metadata": {},
     "output_type": "execute_result"
    }
   ],
   "source": [
    "gym.__version__"
   ]
  },
  {
   "cell_type": "code",
   "execution_count": 3,
   "metadata": {},
   "outputs": [
    {
     "ename": "UnregisteredEnv",
     "evalue": "No registered env with id: hopper-medium-expert-v2",
     "output_type": "error",
     "traceback": [
      "\u001b[0;31m---------------------------------------------------------------------------\u001b[0m",
      "\u001b[0;31mKeyError\u001b[0m                                  Traceback (most recent call last)",
      "\u001b[0;32m~/anaconda3/envs/augmentation/lib/python3.7/site-packages/gym/envs/registration.py\u001b[0m in \u001b[0;36mspec\u001b[0;34m(self, path)\u001b[0m\n\u001b[1;32m    120\u001b[0m         \u001b[0;32mtry\u001b[0m\u001b[0;34m:\u001b[0m\u001b[0;34m\u001b[0m\u001b[0;34m\u001b[0m\u001b[0m\n\u001b[0;32m--> 121\u001b[0;31m             \u001b[0;32mreturn\u001b[0m \u001b[0mself\u001b[0m\u001b[0;34m.\u001b[0m\u001b[0menv_specs\u001b[0m\u001b[0;34m[\u001b[0m\u001b[0mid\u001b[0m\u001b[0;34m]\u001b[0m\u001b[0;34m\u001b[0m\u001b[0;34m\u001b[0m\u001b[0m\n\u001b[0m\u001b[1;32m    122\u001b[0m         \u001b[0;32mexcept\u001b[0m \u001b[0mKeyError\u001b[0m\u001b[0;34m:\u001b[0m\u001b[0;34m\u001b[0m\u001b[0;34m\u001b[0m\u001b[0m\n",
      "\u001b[0;31mKeyError\u001b[0m: 'hopper-medium-expert-v2'",
      "\nDuring handling of the above exception, another exception occurred:\n",
      "\u001b[0;31mUnregisteredEnv\u001b[0m                           Traceback (most recent call last)",
      "\u001b[0;32m/tmp/ipykernel_1851761/3422757968.py\u001b[0m in \u001b[0;36m<module>\u001b[0;34m\u001b[0m\n\u001b[0;32m----> 1\u001b[0;31m \u001b[0mgym\u001b[0m\u001b[0;34m.\u001b[0m\u001b[0mmake\u001b[0m\u001b[0;34m(\u001b[0m\u001b[0;34m\"hopper-medium-expert-v2\"\u001b[0m\u001b[0;34m)\u001b[0m\u001b[0;34m\u001b[0m\u001b[0;34m\u001b[0m\u001b[0m\n\u001b[0m",
      "\u001b[0;32m~/anaconda3/envs/augmentation/lib/python3.7/site-packages/gym/envs/registration.py\u001b[0m in \u001b[0;36mmake\u001b[0;34m(id, **kwargs)\u001b[0m\n\u001b[1;32m    143\u001b[0m \u001b[0;34m\u001b[0m\u001b[0m\n\u001b[1;32m    144\u001b[0m \u001b[0;32mdef\u001b[0m \u001b[0mmake\u001b[0m\u001b[0;34m(\u001b[0m\u001b[0mid\u001b[0m\u001b[0;34m,\u001b[0m \u001b[0;34m**\u001b[0m\u001b[0mkwargs\u001b[0m\u001b[0;34m)\u001b[0m\u001b[0;34m:\u001b[0m\u001b[0;34m\u001b[0m\u001b[0;34m\u001b[0m\u001b[0m\n\u001b[0;32m--> 145\u001b[0;31m     \u001b[0;32mreturn\u001b[0m \u001b[0mregistry\u001b[0m\u001b[0;34m.\u001b[0m\u001b[0mmake\u001b[0m\u001b[0;34m(\u001b[0m\u001b[0mid\u001b[0m\u001b[0;34m,\u001b[0m \u001b[0;34m**\u001b[0m\u001b[0mkwargs\u001b[0m\u001b[0;34m)\u001b[0m\u001b[0;34m\u001b[0m\u001b[0;34m\u001b[0m\u001b[0m\n\u001b[0m\u001b[1;32m    146\u001b[0m \u001b[0;34m\u001b[0m\u001b[0m\n\u001b[1;32m    147\u001b[0m \u001b[0;32mdef\u001b[0m \u001b[0mspec\u001b[0m\u001b[0;34m(\u001b[0m\u001b[0mid\u001b[0m\u001b[0;34m)\u001b[0m\u001b[0;34m:\u001b[0m\u001b[0;34m\u001b[0m\u001b[0;34m\u001b[0m\u001b[0m\n",
      "\u001b[0;32m~/anaconda3/envs/augmentation/lib/python3.7/site-packages/gym/envs/registration.py\u001b[0m in \u001b[0;36mmake\u001b[0;34m(self, path, **kwargs)\u001b[0m\n\u001b[1;32m     87\u001b[0m         \u001b[0;32melse\u001b[0m\u001b[0;34m:\u001b[0m\u001b[0;34m\u001b[0m\u001b[0;34m\u001b[0m\u001b[0m\n\u001b[1;32m     88\u001b[0m             \u001b[0mlogger\u001b[0m\u001b[0;34m.\u001b[0m\u001b[0minfo\u001b[0m\u001b[0;34m(\u001b[0m\u001b[0;34m'Making new env: %s'\u001b[0m\u001b[0;34m,\u001b[0m \u001b[0mpath\u001b[0m\u001b[0;34m)\u001b[0m\u001b[0;34m\u001b[0m\u001b[0;34m\u001b[0m\u001b[0m\n\u001b[0;32m---> 89\u001b[0;31m         \u001b[0mspec\u001b[0m \u001b[0;34m=\u001b[0m \u001b[0mself\u001b[0m\u001b[0;34m.\u001b[0m\u001b[0mspec\u001b[0m\u001b[0;34m(\u001b[0m\u001b[0mpath\u001b[0m\u001b[0;34m)\u001b[0m\u001b[0;34m\u001b[0m\u001b[0;34m\u001b[0m\u001b[0m\n\u001b[0m\u001b[1;32m     90\u001b[0m         \u001b[0menv\u001b[0m \u001b[0;34m=\u001b[0m \u001b[0mspec\u001b[0m\u001b[0;34m.\u001b[0m\u001b[0mmake\u001b[0m\u001b[0;34m(\u001b[0m\u001b[0;34m**\u001b[0m\u001b[0mkwargs\u001b[0m\u001b[0;34m)\u001b[0m\u001b[0;34m\u001b[0m\u001b[0;34m\u001b[0m\u001b[0m\n\u001b[1;32m     91\u001b[0m         \u001b[0;31m# We used to have people override _reset/_step rather than\u001b[0m\u001b[0;34m\u001b[0m\u001b[0;34m\u001b[0m\u001b[0;34m\u001b[0m\u001b[0m\n",
      "\u001b[0;32m~/anaconda3/envs/augmentation/lib/python3.7/site-packages/gym/envs/registration.py\u001b[0m in \u001b[0;36mspec\u001b[0;34m(self, path)\u001b[0m\n\u001b[1;32m    129\u001b[0m                 \u001b[0;32mraise\u001b[0m \u001b[0merror\u001b[0m\u001b[0;34m.\u001b[0m\u001b[0mDeprecatedEnv\u001b[0m\u001b[0;34m(\u001b[0m\u001b[0;34m'Env {} not found (valid versions include {})'\u001b[0m\u001b[0;34m.\u001b[0m\u001b[0mformat\u001b[0m\u001b[0;34m(\u001b[0m\u001b[0mid\u001b[0m\u001b[0;34m,\u001b[0m \u001b[0mmatching_envs\u001b[0m\u001b[0;34m)\u001b[0m\u001b[0;34m)\u001b[0m\u001b[0;34m\u001b[0m\u001b[0;34m\u001b[0m\u001b[0m\n\u001b[1;32m    130\u001b[0m             \u001b[0;32melse\u001b[0m\u001b[0;34m:\u001b[0m\u001b[0;34m\u001b[0m\u001b[0;34m\u001b[0m\u001b[0m\n\u001b[0;32m--> 131\u001b[0;31m                 \u001b[0;32mraise\u001b[0m \u001b[0merror\u001b[0m\u001b[0;34m.\u001b[0m\u001b[0mUnregisteredEnv\u001b[0m\u001b[0;34m(\u001b[0m\u001b[0;34m'No registered env with id: {}'\u001b[0m\u001b[0;34m.\u001b[0m\u001b[0mformat\u001b[0m\u001b[0;34m(\u001b[0m\u001b[0mid\u001b[0m\u001b[0;34m)\u001b[0m\u001b[0;34m)\u001b[0m\u001b[0;34m\u001b[0m\u001b[0;34m\u001b[0m\u001b[0m\n\u001b[0m\u001b[1;32m    132\u001b[0m \u001b[0;34m\u001b[0m\u001b[0m\n\u001b[1;32m    133\u001b[0m     \u001b[0;32mdef\u001b[0m \u001b[0mregister\u001b[0m\u001b[0;34m(\u001b[0m\u001b[0mself\u001b[0m\u001b[0;34m,\u001b[0m \u001b[0mid\u001b[0m\u001b[0;34m,\u001b[0m \u001b[0;34m**\u001b[0m\u001b[0mkwargs\u001b[0m\u001b[0;34m)\u001b[0m\u001b[0;34m:\u001b[0m\u001b[0;34m\u001b[0m\u001b[0;34m\u001b[0m\u001b[0m\n",
      "\u001b[0;31mUnregisteredEnv\u001b[0m: No registered env with id: hopper-medium-expert-v2"
     ]
    }
   ],
   "source": [
    "gym.make(\"hopper-medium-expert-v2\")"
   ]
  },
  {
   "cell_type": "code",
   "execution_count": 1,
   "metadata": {},
   "outputs": [],
   "source": [
    "import gym\n",
    "# import d4rl"
   ]
  },
  {
   "cell_type": "code",
   "execution_count": 2,
   "metadata": {},
   "outputs": [
    {
     "ename": "UnregisteredEnv",
     "evalue": "No registered env with id: hopper-medium-expert-v2",
     "output_type": "error",
     "traceback": [
      "\u001b[0;31m---------------------------------------------------------------------------\u001b[0m",
      "\u001b[0;31mKeyError\u001b[0m                                  Traceback (most recent call last)",
      "\u001b[0;32m~/anaconda3/envs/augmentation/lib/python3.7/site-packages/gym/envs/registration.py\u001b[0m in \u001b[0;36mspec\u001b[0;34m(self, path)\u001b[0m\n\u001b[1;32m    120\u001b[0m         \u001b[0;32mtry\u001b[0m\u001b[0;34m:\u001b[0m\u001b[0;34m\u001b[0m\u001b[0;34m\u001b[0m\u001b[0m\n\u001b[0;32m--> 121\u001b[0;31m             \u001b[0;32mreturn\u001b[0m \u001b[0mself\u001b[0m\u001b[0;34m.\u001b[0m\u001b[0menv_specs\u001b[0m\u001b[0;34m[\u001b[0m\u001b[0mid\u001b[0m\u001b[0;34m]\u001b[0m\u001b[0;34m\u001b[0m\u001b[0;34m\u001b[0m\u001b[0m\n\u001b[0m\u001b[1;32m    122\u001b[0m         \u001b[0;32mexcept\u001b[0m \u001b[0mKeyError\u001b[0m\u001b[0;34m:\u001b[0m\u001b[0;34m\u001b[0m\u001b[0;34m\u001b[0m\u001b[0m\n",
      "\u001b[0;31mKeyError\u001b[0m: 'hopper-medium-expert-v2'",
      "\nDuring handling of the above exception, another exception occurred:\n",
      "\u001b[0;31mUnregisteredEnv\u001b[0m                           Traceback (most recent call last)",
      "\u001b[0;32m/tmp/ipykernel_1963116/3478281565.py\u001b[0m in \u001b[0;36m<module>\u001b[0;34m\u001b[0m\n\u001b[0;32m----> 1\u001b[0;31m \u001b[0mgym\u001b[0m\u001b[0;34m.\u001b[0m\u001b[0mmake\u001b[0m\u001b[0;34m(\u001b[0m\u001b[0;34m'hopper-medium-expert-v2'\u001b[0m\u001b[0;34m)\u001b[0m\u001b[0;34m\u001b[0m\u001b[0;34m\u001b[0m\u001b[0m\n\u001b[0m",
      "\u001b[0;32m~/anaconda3/envs/augmentation/lib/python3.7/site-packages/gym/envs/registration.py\u001b[0m in \u001b[0;36mmake\u001b[0;34m(id, **kwargs)\u001b[0m\n\u001b[1;32m    143\u001b[0m \u001b[0;34m\u001b[0m\u001b[0m\n\u001b[1;32m    144\u001b[0m \u001b[0;32mdef\u001b[0m \u001b[0mmake\u001b[0m\u001b[0;34m(\u001b[0m\u001b[0mid\u001b[0m\u001b[0;34m,\u001b[0m \u001b[0;34m**\u001b[0m\u001b[0mkwargs\u001b[0m\u001b[0;34m)\u001b[0m\u001b[0;34m:\u001b[0m\u001b[0;34m\u001b[0m\u001b[0;34m\u001b[0m\u001b[0m\n\u001b[0;32m--> 145\u001b[0;31m     \u001b[0;32mreturn\u001b[0m \u001b[0mregistry\u001b[0m\u001b[0;34m.\u001b[0m\u001b[0mmake\u001b[0m\u001b[0;34m(\u001b[0m\u001b[0mid\u001b[0m\u001b[0;34m,\u001b[0m \u001b[0;34m**\u001b[0m\u001b[0mkwargs\u001b[0m\u001b[0;34m)\u001b[0m\u001b[0;34m\u001b[0m\u001b[0;34m\u001b[0m\u001b[0m\n\u001b[0m\u001b[1;32m    146\u001b[0m \u001b[0;34m\u001b[0m\u001b[0m\n\u001b[1;32m    147\u001b[0m \u001b[0;32mdef\u001b[0m \u001b[0mspec\u001b[0m\u001b[0;34m(\u001b[0m\u001b[0mid\u001b[0m\u001b[0;34m)\u001b[0m\u001b[0;34m:\u001b[0m\u001b[0;34m\u001b[0m\u001b[0;34m\u001b[0m\u001b[0m\n",
      "\u001b[0;32m~/anaconda3/envs/augmentation/lib/python3.7/site-packages/gym/envs/registration.py\u001b[0m in \u001b[0;36mmake\u001b[0;34m(self, path, **kwargs)\u001b[0m\n\u001b[1;32m     87\u001b[0m         \u001b[0;32melse\u001b[0m\u001b[0;34m:\u001b[0m\u001b[0;34m\u001b[0m\u001b[0;34m\u001b[0m\u001b[0m\n\u001b[1;32m     88\u001b[0m             \u001b[0mlogger\u001b[0m\u001b[0;34m.\u001b[0m\u001b[0minfo\u001b[0m\u001b[0;34m(\u001b[0m\u001b[0;34m'Making new env: %s'\u001b[0m\u001b[0;34m,\u001b[0m \u001b[0mpath\u001b[0m\u001b[0;34m)\u001b[0m\u001b[0;34m\u001b[0m\u001b[0;34m\u001b[0m\u001b[0m\n\u001b[0;32m---> 89\u001b[0;31m         \u001b[0mspec\u001b[0m \u001b[0;34m=\u001b[0m \u001b[0mself\u001b[0m\u001b[0;34m.\u001b[0m\u001b[0mspec\u001b[0m\u001b[0;34m(\u001b[0m\u001b[0mpath\u001b[0m\u001b[0;34m)\u001b[0m\u001b[0;34m\u001b[0m\u001b[0;34m\u001b[0m\u001b[0m\n\u001b[0m\u001b[1;32m     90\u001b[0m         \u001b[0menv\u001b[0m \u001b[0;34m=\u001b[0m \u001b[0mspec\u001b[0m\u001b[0;34m.\u001b[0m\u001b[0mmake\u001b[0m\u001b[0;34m(\u001b[0m\u001b[0;34m**\u001b[0m\u001b[0mkwargs\u001b[0m\u001b[0;34m)\u001b[0m\u001b[0;34m\u001b[0m\u001b[0;34m\u001b[0m\u001b[0m\n\u001b[1;32m     91\u001b[0m         \u001b[0;31m# We used to have people override _reset/_step rather than\u001b[0m\u001b[0;34m\u001b[0m\u001b[0;34m\u001b[0m\u001b[0;34m\u001b[0m\u001b[0m\n",
      "\u001b[0;32m~/anaconda3/envs/augmentation/lib/python3.7/site-packages/gym/envs/registration.py\u001b[0m in \u001b[0;36mspec\u001b[0;34m(self, path)\u001b[0m\n\u001b[1;32m    129\u001b[0m                 \u001b[0;32mraise\u001b[0m \u001b[0merror\u001b[0m\u001b[0;34m.\u001b[0m\u001b[0mDeprecatedEnv\u001b[0m\u001b[0;34m(\u001b[0m\u001b[0;34m'Env {} not found (valid versions include {})'\u001b[0m\u001b[0;34m.\u001b[0m\u001b[0mformat\u001b[0m\u001b[0;34m(\u001b[0m\u001b[0mid\u001b[0m\u001b[0;34m,\u001b[0m \u001b[0mmatching_envs\u001b[0m\u001b[0;34m)\u001b[0m\u001b[0;34m)\u001b[0m\u001b[0;34m\u001b[0m\u001b[0;34m\u001b[0m\u001b[0m\n\u001b[1;32m    130\u001b[0m             \u001b[0;32melse\u001b[0m\u001b[0;34m:\u001b[0m\u001b[0;34m\u001b[0m\u001b[0;34m\u001b[0m\u001b[0m\n\u001b[0;32m--> 131\u001b[0;31m                 \u001b[0;32mraise\u001b[0m \u001b[0merror\u001b[0m\u001b[0;34m.\u001b[0m\u001b[0mUnregisteredEnv\u001b[0m\u001b[0;34m(\u001b[0m\u001b[0;34m'No registered env with id: {}'\u001b[0m\u001b[0;34m.\u001b[0m\u001b[0mformat\u001b[0m\u001b[0;34m(\u001b[0m\u001b[0mid\u001b[0m\u001b[0;34m)\u001b[0m\u001b[0;34m)\u001b[0m\u001b[0;34m\u001b[0m\u001b[0;34m\u001b[0m\u001b[0m\n\u001b[0m\u001b[1;32m    132\u001b[0m \u001b[0;34m\u001b[0m\u001b[0m\n\u001b[1;32m    133\u001b[0m     \u001b[0;32mdef\u001b[0m \u001b[0mregister\u001b[0m\u001b[0;34m(\u001b[0m\u001b[0mself\u001b[0m\u001b[0;34m,\u001b[0m \u001b[0mid\u001b[0m\u001b[0;34m,\u001b[0m \u001b[0;34m**\u001b[0m\u001b[0mkwargs\u001b[0m\u001b[0;34m)\u001b[0m\u001b[0;34m:\u001b[0m\u001b[0;34m\u001b[0m\u001b[0;34m\u001b[0m\u001b[0m\n",
      "\u001b[0;31mUnregisteredEnv\u001b[0m: No registered env with id: hopper-medium-expert-v2"
     ]
    }
   ],
   "source": [
    "gym.make('hopper-medium-expert-v2')"
   ]
  },
  {
   "cell_type": "code",
   "execution_count": 3,
   "metadata": {},
   "outputs": [
    {
     "name": "stderr",
     "output_type": "stream",
     "text": [
      "Warning: Flow failed to import. Set the environment variable D4RL_SUPPRESS_IMPORT_ERROR=1 to suppress this message.\n",
      "No module named 'flow'\n",
      "/home/jaewoo/anaconda3/envs/augmentation/lib/python3.7/site-packages/glfw/__init__.py:916: GLFWError: (65544) b'X11: The DISPLAY environment variable is missing'\n",
      "  warnings.warn(message, GLFWError)\n"
     ]
    },
    {
     "name": "stdout",
     "output_type": "stream",
     "text": [
      "pygame 2.4.0 (SDL 2.26.4, Python 3.7.12)\n",
      "Hello from the pygame community. https://www.pygame.org/contribute.html\n"
     ]
    },
    {
     "name": "stderr",
     "output_type": "stream",
     "text": [
      "pybullet build time: May 20 2022 19:43:01\n",
      "/home/jaewoo/anaconda3/envs/augmentation/lib/python3.7/site-packages/gym/logger.py:30: UserWarning: \u001b[33mWARN: Box bound precision lowered by casting to float32\u001b[0m\n",
      "  warnings.warn(colorize('%s: %s'%('WARN', msg % args), 'yellow'))\n"
     ]
    },
    {
     "data": {
      "text/plain": [
       "<TimeLimitNormalized: <OfflineHopperEnv instance>>"
      ]
     },
     "execution_count": 3,
     "metadata": {},
     "output_type": "execute_result"
    }
   ],
   "source": [
    "import d4rl\n",
    "gym.make('hopper-medium-expert-v2')"
   ]
  },
  {
   "cell_type": "code",
   "execution_count": 53,
   "metadata": {},
   "outputs": [],
   "source": [
    "import numpy as np"
   ]
  },
  {
   "cell_type": "code",
   "execution_count": 54,
   "metadata": {},
   "outputs": [],
   "source": [
    "d = np.load('/home/jaewoo/practices/diffusers/Augmentation-For-OfflineRL/data/generated_data/mixer_cond_model-500000_bf_all_with_reward.npy', allow_pickle=True)"
   ]
  },
  {
   "cell_type": "code",
   "execution_count": 55,
   "metadata": {},
   "outputs": [
    {
     "data": {
      "text/plain": [
       "dict_keys(['observations', 'actions', 'next_observations', 'rewards'])"
      ]
     },
     "execution_count": 55,
     "metadata": {},
     "output_type": "execute_result"
    }
   ],
   "source": [
    "d[0].keys()"
   ]
  },
  {
   "cell_type": "code",
   "execution_count": 58,
   "metadata": {},
   "outputs": [
    {
     "data": {
      "text/plain": [
       "dict_keys(['observations', 'actions', 'next_observations', 'rewards'])"
      ]
     },
     "execution_count": 58,
     "metadata": {},
     "output_type": "execute_result"
    }
   ],
   "source": [
    "d[0].keys()\n"
   ]
  },
  {
   "cell_type": "code",
   "execution_count": 57,
   "metadata": {},
   "outputs": [
    {
     "data": {
      "text/plain": [
       "(31, 17)"
      ]
     },
     "execution_count": 57,
     "metadata": {},
     "output_type": "execute_result"
    }
   ],
   "source": [
    "d[0]['observations'].shape\n"
   ]
  },
  {
   "cell_type": "code",
   "execution_count": 59,
   "metadata": {},
   "outputs": [],
   "source": [
    "d = np.load(\"/home/jaewoo/practices/diffusers/Augmentation-For-OfflineRL/data/generated_data/hopper-medium-expert-v2debug1.npy\", allow_pickle=True)"
   ]
  },
  {
   "cell_type": "code",
   "execution_count": 66,
   "metadata": {},
   "outputs": [
    {
     "data": {
      "text/plain": [
       "-237.77594"
      ]
     },
     "execution_count": 66,
     "metadata": {},
     "output_type": "execute_result"
    }
   ],
   "source": [
    "d[1]['rewards'].mean()"
   ]
  },
  {
   "cell_type": "code",
   "execution_count": 67,
   "metadata": {},
   "outputs": [],
   "source": [
    "import torch"
   ]
  },
  {
   "cell_type": "code",
   "execution_count": 70,
   "metadata": {},
   "outputs": [
    {
     "data": {
      "text/plain": [
       "OrderedDict([('net.0.weight',\n",
       "              tensor([[ 0.0189,  0.0809, -0.1404,  ...,  0.0493, -0.0118, -0.0372],\n",
       "                      [-0.0362, -0.0215,  0.0530,  ...,  0.0539,  0.1055, -0.1067],\n",
       "                      [-0.0537, -0.0344, -0.0845,  ..., -0.0610, -0.0129, -0.0265],\n",
       "                      ...,\n",
       "                      [-0.1284,  0.0494,  0.1802,  ..., -0.0037, -0.0805, -0.0758],\n",
       "                      [ 0.1805, -0.0215, -0.0478,  ..., -0.0208, -0.1258, -0.0684],\n",
       "                      [ 0.1110,  0.0621,  0.1391,  ...,  0.0292, -0.0328,  0.0242]],\n",
       "                     device='cuda:4')),\n",
       "             ('net.0.bias',\n",
       "              tensor([ 0.2967, -0.0395, -0.1025, -0.0144,  0.2370,  0.1537,  0.0122, -0.1486,\n",
       "                      -0.1501, -0.0283, -0.2845,  0.0293, -0.3257,  0.1086, -0.1930, -0.1820,\n",
       "                      -0.2486,  0.1483, -0.2380,  0.0012,  0.2590,  0.1146,  0.1127,  0.1378,\n",
       "                      -0.0024,  0.0186,  0.0645, -0.3355, -0.1598, -0.0756, -0.0839, -0.2100,\n",
       "                      -0.4148, -0.1032, -0.0877,  0.2639, -0.2316,  0.0715, -0.2737, -0.3258,\n",
       "                      -0.1760,  0.0352,  0.1510, -0.2547,  0.3218,  0.2650, -0.0825,  0.0496,\n",
       "                      -0.2382, -0.2075, -0.1728,  0.0333, -0.2073, -0.3245,  0.1940, -0.0673,\n",
       "                       0.2926, -0.1892,  0.1340, -0.1924, -0.0120, -0.0098,  0.2873, -0.0759,\n",
       "                       0.3462,  0.2186, -0.1323,  0.3403, -0.3312,  0.2882,  0.3145,  0.1793,\n",
       "                      -0.2440, -0.1813, -0.0088, -0.0859,  0.0109,  0.0849,  0.1596, -0.1084,\n",
       "                      -0.1516,  0.0291, -0.1280, -0.2702, -0.1015, -0.3169, -0.1349, -0.2699,\n",
       "                       0.2387, -0.3637, -0.3405, -0.3173, -0.1414, -0.2490,  0.0700, -0.2527,\n",
       "                      -0.3087, -0.2600, -0.1126,  0.3518,  0.3392, -0.2144, -0.3228, -0.1453,\n",
       "                      -0.2663, -0.1576,  0.1074,  0.1522,  0.1615, -0.0090, -0.2312,  0.0292,\n",
       "                      -0.0508, -0.2199,  0.0432, -0.0388, -0.3089,  0.1006, -0.2335, -0.3900,\n",
       "                       0.1156, -0.2230, -0.0786,  0.0848,  0.0871, -0.1171, -0.0147,  0.0135],\n",
       "                     device='cuda:4')),\n",
       "             ('net.2.weight',\n",
       "              tensor([[-0.0612, -0.0450, -0.0209,  ...,  0.0093,  0.0016, -0.0375],\n",
       "                      [-0.0670,  0.0231, -0.0675,  ..., -0.0398, -0.0474,  0.0108],\n",
       "                      [ 0.0733, -0.0055, -0.0462,  ..., -0.1184, -0.1767, -0.0536],\n",
       "                      ...,\n",
       "                      [ 0.0336,  0.0655, -0.0038,  ..., -0.0801, -0.0279,  0.0136],\n",
       "                      [ 0.0546,  0.0427, -0.0319,  ..., -0.0522, -0.0012, -0.0215],\n",
       "                      [-0.1927, -0.0211, -0.0219,  ..., -0.0279,  0.0698, -0.0767]],\n",
       "                     device='cuda:4')),\n",
       "             ('net.2.bias',\n",
       "              tensor([-0.0361,  0.0307,  0.0071,  0.0697,  0.0223, -0.0637,  0.0707,  0.0606,\n",
       "                       0.0876,  0.0266, -0.1238,  0.1189,  0.0811,  0.1556,  0.1029,  0.0316,\n",
       "                      -0.0524, -0.0676,  0.0114,  0.0206, -0.0990,  0.1161,  0.0072, -0.0019,\n",
       "                       0.0044, -0.1056, -0.1035,  0.0805,  0.0173, -0.0515, -0.0924,  0.1070,\n",
       "                       0.0052,  0.0503,  0.0290,  0.0858, -0.0710, -0.1041,  0.0724,  0.0308,\n",
       "                      -0.0792, -0.0351,  0.1509,  0.0271,  0.0088,  0.1519,  0.0065, -0.0760,\n",
       "                       0.0652, -0.0974,  0.0993, -0.0436,  0.0621, -0.0235,  0.1364, -0.0705,\n",
       "                      -0.0631, -0.0170, -0.1379, -0.1403, -0.0959,  0.1459, -0.1098,  0.1151,\n",
       "                      -0.0967,  0.1480, -0.0644, -0.1146,  0.0814,  0.0045, -0.0671, -0.1217,\n",
       "                      -0.1363, -0.0823,  0.1378, -0.0775,  0.0372,  0.0859,  0.0641, -0.0132,\n",
       "                       0.1225,  0.0678, -0.0066,  0.0237, -0.0857, -0.0033, -0.1218,  0.0614,\n",
       "                       0.0995,  0.0493, -0.0557, -0.1080, -0.0555,  0.1087, -0.1295,  0.1206,\n",
       "                      -0.0934,  0.1395, -0.0168,  0.0966,  0.0706,  0.0502,  0.0827, -0.0771,\n",
       "                       0.0096, -0.0420, -0.0304,  0.0728, -0.0419,  0.0010, -0.0914, -0.0554,\n",
       "                      -0.1313,  0.0100, -0.0784, -0.0459,  0.1793,  0.1535,  0.0495, -0.1037,\n",
       "                       0.1268,  0.0572, -0.1423, -0.0562,  0.0186,  0.1556, -0.1188,  0.0995,\n",
       "                       0.1271, -0.1449, -0.1293, -0.1223,  0.0115, -0.1010,  0.1077, -0.0182,\n",
       "                       0.0846,  0.1389, -0.0751, -0.0848,  0.1412,  0.0101,  0.0040, -0.1155,\n",
       "                       0.0151, -0.1008, -0.0392,  0.0675, -0.0865,  0.1216, -0.1581,  0.1050,\n",
       "                       0.0051,  0.0592,  0.0345, -0.0537,  0.0822,  0.0393, -0.0952, -0.0931,\n",
       "                       0.1086, -0.1041, -0.0550,  0.1634, -0.1362,  0.1377, -0.0251, -0.0393,\n",
       "                      -0.1471, -0.1247, -0.0938, -0.1470, -0.0319,  0.1398, -0.1220, -0.1433,\n",
       "                       0.1436, -0.0584,  0.1866,  0.0528,  0.1870, -0.1150,  0.0662, -0.1186,\n",
       "                       0.0359, -0.0846, -0.1004,  0.1658, -0.1500, -0.0026, -0.0113,  0.0830,\n",
       "                      -0.1327,  0.2103, -0.1588,  0.1214,  0.0918, -0.0581, -0.0737, -0.0723,\n",
       "                       0.0090,  0.1179,  0.0451, -0.0683,  0.0592, -0.0058, -0.0262,  0.1370,\n",
       "                      -0.1013,  0.0293,  0.1652, -0.1216,  0.0796,  0.1518, -0.1174,  0.1307,\n",
       "                       0.1252, -0.0495, -0.0450, -0.0624,  0.1462, -0.0756,  0.0334,  0.1327,\n",
       "                      -0.1735, -0.0449,  0.1403, -0.0590, -0.0561,  0.0774,  0.1234,  0.1015,\n",
       "                      -0.1288, -0.0805, -0.1106, -0.0605,  0.1624, -0.1420,  0.1187, -0.1592,\n",
       "                      -0.1284,  0.0022,  0.0660,  0.0681,  0.0503,  0.0927,  0.1168, -0.1466,\n",
       "                       0.0877, -0.0472, -0.0439, -0.1085,  0.0102,  0.1476,  0.0957,  0.0373],\n",
       "                     device='cuda:4')),\n",
       "             ('net.4.weight',\n",
       "              tensor([[-6.6244e-03, -6.5116e-02,  5.3341e-02,  ...,  2.5314e-02,\n",
       "                        2.3590e-02, -6.9502e-02],\n",
       "                      [-3.7682e-02,  3.1400e-02,  3.1574e-03,  ..., -2.6694e-02,\n",
       "                       -3.2025e-02,  4.0355e-02],\n",
       "                      [-5.2947e-03,  1.8844e-02,  7.2328e-05,  ...,  1.1949e-02,\n",
       "                       -5.6966e-02, -7.7507e-03],\n",
       "                      ...,\n",
       "                      [ 3.8419e-02, -7.8855e-03, -2.1629e-03,  ..., -3.9069e-02,\n",
       "                        6.9846e-02,  7.4458e-03],\n",
       "                      [ 2.4255e-02,  5.7034e-02,  3.3828e-02,  ..., -1.8113e-02,\n",
       "                        1.9555e-02,  2.8148e-02],\n",
       "                      [ 6.0858e-03,  8.5267e-03,  4.2945e-02,  ...,  5.2025e-02,\n",
       "                       -6.9200e-02,  1.8825e-01]], device='cuda:4')),\n",
       "             ('net.4.bias',\n",
       "              tensor([ 2.0098e-02,  1.0934e-01, -2.4587e-02, -2.3965e-02, -4.3268e-02,\n",
       "                       1.1427e-01,  1.6201e-01,  8.2777e-02,  5.8001e-02,  5.9684e-02,\n",
       "                      -2.0081e-02,  4.9113e-02,  3.9151e-02, -6.5352e-02,  2.5861e-03,\n",
       "                      -7.4101e-02, -4.1907e-02,  1.6159e-02,  1.0989e-01,  1.1502e-01,\n",
       "                       1.0824e-01,  9.5162e-02, -4.2876e-02,  9.9080e-02,  4.8180e-03,\n",
       "                      -3.5652e-02,  7.5354e-02, -9.7237e-02, -3.5794e-02,  8.6831e-02,\n",
       "                       1.2084e-01,  7.4668e-02,  3.0458e-02,  1.0275e-02,  3.8432e-02,\n",
       "                       1.2330e-01, -1.9235e-02,  3.7675e-02,  9.3391e-02, -8.3494e-02,\n",
       "                       2.7519e-02, -3.6382e-02, -6.1036e-03,  5.1655e-02,  9.4317e-02,\n",
       "                      -3.5860e-02,  1.0324e-01, -2.8678e-02, -7.3102e-02,  1.4044e-02,\n",
       "                       1.1754e-01, -2.8771e-02, -3.6645e-02,  4.2498e-02,  1.3822e-02,\n",
       "                      -3.6657e-02,  7.7149e-02,  1.1200e-02,  2.2095e-02,  2.3370e-02,\n",
       "                       7.2844e-03, -3.1009e-02, -2.4367e-02,  7.9172e-02,  2.5054e-02,\n",
       "                       9.1657e-02, -3.0809e-02, -2.3296e-02,  1.0261e-01,  1.2041e-01,\n",
       "                       3.1110e-02,  8.2907e-02, -9.3336e-03,  3.4800e-02,  1.2795e-01,\n",
       "                       1.1215e-01, -3.6627e-02, -3.5214e-02,  6.5022e-02, -1.4845e-02,\n",
       "                       2.3804e-02,  6.2123e-02,  4.5293e-02, -5.1854e-02,  1.7777e-01,\n",
       "                       2.3454e-03,  7.1977e-02,  1.0329e-02, -4.0787e-02, -6.1817e-02,\n",
       "                       1.0741e-03, -5.2033e-02, -5.9801e-03,  1.0501e-01,  9.4099e-03,\n",
       "                       5.8984e-02,  1.7370e-02,  1.0797e-01,  1.1010e-01,  5.3096e-02,\n",
       "                      -5.8499e-02, -3.6709e-02, -2.8873e-03, -6.7767e-02, -5.6859e-02,\n",
       "                      -4.6701e-03, -4.5063e-02,  1.9397e-02,  4.1967e-02,  1.3228e-02,\n",
       "                      -1.5560e-02,  6.6594e-02,  4.0487e-02, -9.9561e-02,  4.9231e-03,\n",
       "                       1.1442e-01,  4.9173e-02, -6.5733e-03, -1.3620e-02,  4.2808e-02,\n",
       "                      -1.2355e-02,  3.2746e-02,  5.0463e-02,  1.7759e-02,  1.0072e-01,\n",
       "                       3.6457e-02,  7.8689e-02,  2.9377e-02, -5.7488e-02, -6.9577e-02,\n",
       "                       1.0252e-01, -4.0619e-03,  8.5605e-02,  1.7932e-02,  2.4297e-02,\n",
       "                      -9.3446e-04, -3.1319e-02, -3.7439e-02,  4.3365e-02, -8.6835e-03,\n",
       "                       3.3668e-02, -3.7528e-02,  1.0401e-01,  5.5323e-02, -3.6661e-02,\n",
       "                      -6.9117e-02, -5.2492e-02, -2.0912e-02,  6.2647e-02,  1.1771e-01,\n",
       "                       6.9575e-02,  1.1766e-01, -3.5526e-02, -7.5241e-02, -1.0888e-01,\n",
       "                       1.3176e-02, -6.7023e-02, -4.3994e-02, -3.9039e-02,  5.4321e-02,\n",
       "                      -3.0521e-02, -3.2525e-02,  1.1284e-01,  6.2552e-03, -1.9301e-03,\n",
       "                      -4.4963e-02,  2.7563e-02,  4.4015e-02,  1.4968e-01, -2.5357e-02,\n",
       "                      -5.7416e-02, -5.9908e-02,  1.1910e-01,  7.7039e-02,  9.5708e-03,\n",
       "                      -2.8625e-03, -6.5441e-02, -2.3636e-02, -1.0756e-02,  3.7480e-02,\n",
       "                      -7.5132e-02,  8.4071e-02,  1.2131e-01, -4.2278e-02, -3.6909e-02,\n",
       "                      -4.9596e-02, -5.3209e-02,  9.2670e-02,  5.8970e-02, -1.9344e-02,\n",
       "                      -6.5135e-02,  1.6727e-02,  1.4731e-01,  1.5132e-02, -2.7765e-02,\n",
       "                       1.6608e-02,  1.0200e-01,  1.0018e-01, -7.0894e-03,  1.8975e-02,\n",
       "                      -1.9942e-02,  3.7607e-02, -5.1255e-02,  2.8745e-02, -5.4919e-02,\n",
       "                       6.2159e-02, -1.3761e-02,  2.1887e-02,  5.5761e-02, -4.4107e-02,\n",
       "                       1.7845e-02,  1.1530e-01, -4.4276e-02,  1.3909e-01, -2.8130e-02,\n",
       "                       1.1720e-01, -5.4050e-04,  1.0882e-01, -4.0843e-02, -9.0081e-02,\n",
       "                       1.2514e-02,  8.7813e-02,  5.2840e-02,  2.0786e-01, -6.9855e-02,\n",
       "                       1.1451e-02,  3.6902e-02,  9.6242e-03,  1.0122e-01,  3.6090e-02,\n",
       "                      -6.1380e-02,  1.0705e-01,  1.1326e-01, -6.5664e-02,  1.5333e-01,\n",
       "                      -3.4368e-02, -5.2375e-02, -1.9106e-02,  5.3466e-02, -1.6324e-02,\n",
       "                      -3.9480e-02,  1.6983e-01,  1.5804e-01,  1.2696e-01, -2.7946e-03,\n",
       "                       6.8838e-02, -1.1847e-02, -2.7615e-02,  6.5485e-02, -4.2620e-02,\n",
       "                       5.0215e-02, -5.7089e-02,  6.0323e-02, -5.1194e-02, -1.9771e-02,\n",
       "                      -1.1354e-02, -2.8738e-02,  8.0849e-02, -4.5195e-02,  1.2696e-01,\n",
       "                      -4.3572e-02,  6.9202e-02,  5.7632e-02,  5.3425e-02, -1.7570e-03,\n",
       "                      -2.5568e-02,  1.4001e-04,  6.4800e-02,  1.2219e-01,  1.5884e-01,\n",
       "                       2.0314e-02,  9.5072e-02,  8.5087e-02,  5.3576e-02, -1.7850e-02,\n",
       "                      -3.1254e-02,  2.5386e-02,  1.4194e-01,  2.1856e-03,  1.7334e-01,\n",
       "                       1.4971e-01, -3.4036e-02,  1.1043e-01, -4.2862e-02, -1.1821e-02,\n",
       "                      -1.7214e-02,  2.1185e-03,  2.0534e-02,  9.2746e-02,  3.2454e-02,\n",
       "                      -4.2793e-02,  1.9104e-03,  5.2915e-02,  4.0805e-02,  1.0729e-01,\n",
       "                       1.3901e-01, -1.5620e-02,  1.0570e-01, -3.0693e-02, -3.1969e-02,\n",
       "                      -4.8673e-02, -5.7109e-02,  1.3187e-01, -4.3961e-02,  1.1877e-01,\n",
       "                      -4.2526e-02,  1.0921e-01, -6.8965e-02, -1.7581e-02,  7.6965e-03,\n",
       "                      -1.0264e-02,  1.0763e-02,  1.2011e-01,  1.0925e-01,  2.7874e-02,\n",
       "                      -5.7187e-02,  1.0579e-01,  1.0541e-01,  1.0829e-01,  2.2669e-02,\n",
       "                      -6.1863e-02, -4.6246e-02, -8.7200e-02,  1.0885e-02, -4.6504e-03,\n",
       "                       6.1862e-02, -9.8134e-03, -2.8369e-02,  1.2599e-01, -8.9680e-02,\n",
       "                       9.1816e-02,  1.7758e-01,  1.7166e-02,  4.7217e-02,  1.0373e-01,\n",
       "                       7.9359e-02, -1.7813e-02,  1.1904e-01,  8.8413e-03,  1.1049e-01,\n",
       "                       1.2407e-01, -6.1229e-02,  1.0207e-01, -2.0306e-02,  9.9687e-02,\n",
       "                       1.1872e-01, -2.3612e-02,  1.1093e-01,  1.0866e-01,  1.2227e-01,\n",
       "                      -3.8419e-02,  1.5238e-02,  1.2549e-01, -5.8333e-02,  8.6823e-02,\n",
       "                      -2.2446e-02,  3.7436e-04,  9.2353e-02, -6.5661e-03, -2.1882e-02,\n",
       "                       6.4172e-02, -4.7441e-02,  3.4175e-02, -9.8151e-02,  5.0892e-02,\n",
       "                      -1.7428e-02, -3.4096e-02,  1.0178e-01,  3.9781e-03,  1.0237e-01,\n",
       "                      -2.4632e-02,  8.2137e-02,  1.5679e-02,  8.7435e-02,  1.1103e-01,\n",
       "                      -7.8041e-02,  4.8824e-04, -7.5136e-02, -4.5027e-02, -6.5290e-02,\n",
       "                      -1.1346e-02,  2.8579e-02,  1.1320e-02, -3.8559e-02, -4.0468e-02,\n",
       "                      -3.1454e-02,  4.0757e-02,  6.6351e-02, -1.1221e-02, -1.5424e-02,\n",
       "                       3.6189e-02, -1.2796e-02,  1.0455e-02,  5.1018e-03, -3.4383e-02,\n",
       "                       5.9386e-02, -1.9468e-02,  9.9350e-02,  8.9052e-02,  6.8873e-02,\n",
       "                      -8.3396e-02, -9.7802e-03, -1.4084e-02,  1.0525e-01,  8.9345e-02,\n",
       "                      -3.7676e-02, -5.5906e-02,  2.2087e-03, -2.9020e-02, -3.7967e-02,\n",
       "                       1.2076e-01,  1.3061e-02,  7.7251e-02,  3.0725e-02, -9.9589e-02,\n",
       "                       9.3486e-02, -3.6253e-02,  6.5040e-02, -2.9477e-02,  1.2058e-01,\n",
       "                       2.6304e-02,  9.1698e-02,  1.0530e-01, -3.0363e-02,  1.6902e-02,\n",
       "                      -1.6017e-02, -9.1210e-02, -3.8818e-03,  1.0429e-01,  2.0233e-03,\n",
       "                       1.9219e-01,  1.3293e-02, -5.8252e-02, -3.2732e-02,  6.5035e-02,\n",
       "                      -9.3038e-03, -2.6231e-02, -7.3478e-03,  3.1901e-02, -3.0184e-02,\n",
       "                      -2.0390e-02,  5.5003e-02, -9.1756e-03,  1.0012e-01,  3.4539e-03,\n",
       "                      -9.3513e-03,  1.1876e-03, -4.5533e-02,  9.7262e-02,  3.9468e-02,\n",
       "                      -9.3454e-03,  1.0921e-01, -4.1494e-03,  6.9527e-02,  1.0488e-01,\n",
       "                       2.9933e-02, -5.5045e-02,  1.0060e-01,  5.5328e-02,  7.8406e-02,\n",
       "                      -3.3169e-02, -3.3223e-02, -3.4808e-02, -5.5816e-02,  1.2248e-01,\n",
       "                       1.1183e-01, -9.0603e-02, -3.5625e-02,  9.4455e-02,  1.4709e-01,\n",
       "                       4.5918e-02, -2.9464e-02,  3.8258e-02, -2.6346e-02, -2.9615e-03,\n",
       "                      -7.2416e-02, -4.3397e-02,  4.5429e-03, -1.0711e-01,  8.3745e-03,\n",
       "                      -2.0086e-02,  2.8224e-02,  1.3882e-02,  1.4026e-02, -5.0513e-02,\n",
       "                       8.3914e-02,  2.1108e-02,  2.1969e-02,  1.2113e-02, -5.1621e-02,\n",
       "                      -5.6760e-02, -2.3760e-02,  4.2799e-02,  7.5281e-02,  8.2401e-02,\n",
       "                      -2.8844e-02, -6.7984e-03, -3.2779e-02, -7.3053e-02, -9.1026e-03,\n",
       "                       3.4021e-02, -5.3963e-02, -7.4172e-02,  9.8967e-02, -5.1430e-02,\n",
       "                      -1.4821e-02,  2.7694e-02,  6.8169e-03, -3.0145e-02,  8.0078e-02,\n",
       "                       1.2049e-01, -8.2734e-02], device='cuda:4')),\n",
       "             ('net.6.weight',\n",
       "              tensor([[-0.0236,  0.0013,  0.0325,  ...,  0.0073,  0.0529, -0.0607],\n",
       "                      [-0.0228, -0.0004,  0.0190,  ...,  0.0010,  0.0355, -0.0637],\n",
       "                      [ 0.0120,  0.0487, -0.0088,  ...,  0.0444,  0.0359, -0.0394],\n",
       "                      ...,\n",
       "                      [ 0.0078,  0.0027,  0.0297,  ...,  0.0380,  0.0458, -0.0567],\n",
       "                      [ 0.0435,  0.0306,  0.0343,  ...,  0.0222,  0.0105, -0.0130],\n",
       "                      [-0.0251, -0.0439, -0.0097,  ...,  0.0192, -0.0291,  0.0080]],\n",
       "                     device='cuda:4')),\n",
       "             ('net.6.bias',\n",
       "              tensor([ 0.0885,  0.1087,  0.0292, -0.0259, -0.0207,  0.0238,  0.0671,  0.0273,\n",
       "                       0.0351,  0.0837, -0.0218,  0.0767,  0.0440,  0.1177, -0.0164,  0.0004,\n",
       "                      -0.0070,  0.0697,  0.1000,  0.0812, -0.0241,  0.0201,  0.0064,  0.0369,\n",
       "                      -0.0415, -0.0390,  0.0180, -0.0273,  0.1161,  0.0959,  0.0609,  0.0920,\n",
       "                       0.0499,  0.0789, -0.0236, -0.0040,  0.0395,  0.0421, -0.0422, -0.0410,\n",
       "                       0.0149,  0.0575,  0.0898,  0.0711, -0.0017,  0.0233, -0.0501, -0.0274,\n",
       "                      -0.0003,  0.0645,  0.1132,  0.1069, -0.0387,  0.0997, -0.0011,  0.0905,\n",
       "                       0.0731,  0.0444,  0.1093,  0.0275, -0.0211,  0.0811,  0.0180,  0.1191,\n",
       "                       0.0617,  0.0937, -0.0364,  0.0213, -0.0231,  0.0787,  0.0974,  0.0668,\n",
       "                      -0.0061,  0.0985,  0.1118,  0.0403,  0.0592,  0.1049, -0.0116,  0.0939,\n",
       "                       0.0101, -0.0067,  0.0497,  0.0044, -0.0283,  0.0966,  0.0498,  0.0359,\n",
       "                       0.0279, -0.0371,  0.0111,  0.0144,  0.0154,  0.1126, -0.0468,  0.0038,\n",
       "                       0.0857, -0.0444,  0.0003,  0.0447, -0.0123,  0.0058, -0.0045,  0.0105,\n",
       "                       0.0989, -0.0348,  0.0179,  0.0688, -0.0343,  0.0223,  0.0362,  0.0299,\n",
       "                       0.0306,  0.0835,  0.0299,  0.0615,  0.0913,  0.0260,  0.0069,  0.0983,\n",
       "                       0.0177,  0.0337,  0.0318, -0.0332,  0.0365,  0.0804, -0.0486,  0.0379],\n",
       "                     device='cuda:4')),\n",
       "             ('net.8.weight',\n",
       "              tensor([[ 0.0750,  0.0497,  0.0206, -0.0356, -0.0010,  0.0137,  0.0841, -0.0336,\n",
       "                       -0.0179,  0.0624, -0.0802,  0.0144,  0.0344,  0.0564, -0.0302, -0.0363,\n",
       "                        0.0035,  0.0354,  0.0455,  0.0495, -0.0207, -0.0006, -0.0572,  0.0932,\n",
       "                       -0.0621, -0.0281, -0.0313, -0.0476,  0.0882,  0.0710,  0.0240,  0.0798,\n",
       "                        0.0823,  0.0809, -0.0285, -0.0115,  0.0743,  0.0220, -0.0348, -0.0219,\n",
       "                       -0.0252,  0.0197,  0.0591,  0.0743, -0.0010, -0.0591, -0.0202, -0.0620,\n",
       "                       -0.0194,  0.0298,  0.0954,  0.0292,  0.0103,  0.0129, -0.0353,  0.0474,\n",
       "                        0.0752,  0.0077,  0.0187, -0.0443,  0.0026,  0.0831, -0.0198,  0.0529,\n",
       "                        0.0305,  0.0549, -0.0717, -0.0541, -0.0130,  0.0620,  0.0190,  0.0478,\n",
       "                       -0.0112,  0.0651,  0.0658,  0.0455,  0.0196,  0.0781, -0.0446,  0.0444,\n",
       "                       -0.0285, -0.0792,  0.0237, -0.0654, -0.0559,  0.0535,  0.0754, -0.0501,\n",
       "                       -0.0207, -0.0087, -0.0294, -0.1864, -0.0718,  0.0579, -0.0106, -0.0442,\n",
       "                        0.0899,  0.0541, -0.0199,  0.0069,  0.0786, -0.0050,  0.0020, -0.0511,\n",
       "                        0.0268, -0.0643, -0.0496,  0.0906, -0.0701, -0.0245,  0.0637, -0.0055,\n",
       "                        0.0188,  0.0973,  0.0294,  0.0118,  0.0329, -0.0376, -0.0442,  0.0677,\n",
       "                        0.0037,  0.0905, -0.0149,  0.0107,  0.0756,  0.0568,  0.0114, -0.0266]],\n",
       "                     device='cuda:4')),\n",
       "             ('net.8.bias', tensor([0.0649], device='cuda:4'))])"
      ]
     },
     "execution_count": 70,
     "metadata": {},
     "output_type": "execute_result"
    }
   ],
   "source": [
    "torch.load('/home/jaewoo/practices/diffusers/Augmentation-For-OfflineRL/reward_model/hopper-medium-expert-v2.pt')"
   ]
  },
  {
   "cell_type": "code",
   "execution_count": 18,
   "metadata": {},
   "outputs": [],
   "source": [
    "import numpy as np\n",
    "d = np.load('/home/jaewoo/practices/diffusers/Augmentation-For-OfflineRL/data/generated_data/hopper-medium-expert-v2_debug1.npy', allow_pickle=True)"
   ]
  },
  {
   "cell_type": "code",
   "execution_count": 22,
   "metadata": {},
   "outputs": [],
   "source": [
    "np.save('/home/jaewoo/practices/diffusers/Augmentation-For-OfflineRL/data/generated_data/hopper-medium-expert-v2_debug1.npy', d[:277777])"
   ]
  },
  {
   "cell_type": "code",
   "execution_count": null,
   "metadata": {},
   "outputs": [],
   "source": [
    "45:25 = 50:?"
   ]
  },
  {
   "cell_type": "code",
   "execution_count": 15,
   "metadata": {},
   "outputs": [
    {
     "data": {
      "text/plain": [
       "4.449591064453125"
      ]
     },
     "execution_count": 15,
     "metadata": {},
     "output_type": "execute_result"
    }
   ],
   "source": [
    "print(d[1]['rewards'].mean())\n",
    "print(d[1]['rewards'].std())\n",
    "print(d[1]['observations'].mean())\n",
    "print(d[1]['observations'].std())\n",
    "print(d[1]['actions'].mean())\n",
    "print(d[1]['actionss'].std())"
   ]
  },
  {
   "cell_type": "code",
   "execution_count": 20,
   "metadata": {},
   "outputs": [
    {
     "data": {
      "text/plain": [
       "249984.0"
      ]
     },
     "execution_count": 20,
     "metadata": {},
     "output_type": "execute_result"
    }
   ],
   "source": [
    "4999680/20"
   ]
  },
  {
   "cell_type": "code",
   "execution_count": 19,
   "metadata": {},
   "outputs": [
    {
     "data": {
      "text/plain": [
       "(4999680,)"
      ]
     },
     "execution_count": 19,
     "metadata": {},
     "output_type": "execute_result"
    }
   ],
   "source": [
    "d.shape"
   ]
  },
  {
   "cell_type": "code",
   "execution_count": 17,
   "metadata": {},
   "outputs": [
    {
     "data": {
      "text/plain": [
       "2.0922406"
      ]
     },
     "execution_count": 17,
     "metadata": {},
     "output_type": "execute_result"
    }
   ],
   "source": [
    "d[1]['observations'].std()"
   ]
  },
  {
   "cell_type": "code",
   "execution_count": 2,
   "metadata": {},
   "outputs": [],
   "source": [
    "import pickle\n",
    "\n",
    "with open('/home/jaewoo/practices/diffusers/Augmentation-For-OfflineRL/data/hopper-medium-expert-v2.pkl', 'rb') as f:\n",
    "    d = pickle.load(f)"
   ]
  },
  {
   "cell_type": "code",
   "execution_count": 7,
   "metadata": {},
   "outputs": [
    {
     "data": {
      "text/plain": [
       "0.16248186"
      ]
     },
     "execution_count": 7,
     "metadata": {},
     "output_type": "execute_result"
    }
   ],
   "source": [
    "d[0]['observations'].mean()"
   ]
  },
  {
   "cell_type": "code",
   "execution_count": 8,
   "metadata": {},
   "outputs": [
    {
     "data": {
      "text/plain": [
       "1.9934351"
      ]
     },
     "execution_count": 8,
     "metadata": {},
     "output_type": "execute_result"
    }
   ],
   "source": [
    "d[0]['observations'].std()"
   ]
  },
  {
   "cell_type": "code",
   "execution_count": 11,
   "metadata": {},
   "outputs": [
    {
     "data": {
      "text/plain": [
       "3.117414"
      ]
     },
     "execution_count": 11,
     "metadata": {},
     "output_type": "execute_result"
    }
   ],
   "source": [
    "d[0]['rewards'].mean()"
   ]
  },
  {
   "cell_type": "code",
   "execution_count": 12,
   "metadata": {},
   "outputs": [
    {
     "data": {
      "text/plain": [
       "0.9951647"
      ]
     },
     "execution_count": 12,
     "metadata": {},
     "output_type": "execute_result"
    }
   ],
   "source": [
    "d[0]['rewards'].std()"
   ]
  },
  {
   "cell_type": "code",
   "execution_count": 3,
   "metadata": {},
   "outputs": [
    {
     "name": "stdout",
     "output_type": "stream",
     "text": [
      "/mnt/HDD/jaewoo/practices/diffusers/Augmentation-For-OfflineRL\n"
     ]
    }
   ],
   "source": [
    "cd .."
   ]
  },
  {
   "cell_type": "code",
   "execution_count": 9,
   "metadata": {},
   "outputs": [
    {
     "name": "stderr",
     "output_type": "stream",
     "text": [
      "load datafile:   0%|          | 0/9 [00:00<?, ?it/s]"
     ]
    },
    {
     "name": "stderr",
     "output_type": "stream",
     "text": [
      "load datafile: 100%|██████████| 9/9 [00:02<00:00,  3.10it/s]\n"
     ]
    },
    {
     "name": "stdout",
     "output_type": "stream",
     "text": [
      "[ datasets/buffer ] Finalized replay buffer | 3213 episodes\n",
      "[ datasets/buffer ] Fields:\n",
      "    actions: (3213, 1000, 3)\n",
      "    infos/action_log_probs: (3213, 1000, 1)\n",
      "    infos/qpos: (3213, 1000, 6)\n",
      "    infos/qvel: (3213, 1000, 6)\n",
      "    next_observations: (3213, 1000, 11)\n",
      "    observations: (3213, 1000, 11)\n",
      "    rewards: (3213, 1000, 1)\n",
      "    terminals: (3213, 1000, 1)\n",
      "    timeouts: (3213, 1000, 1)\n",
      "    normed_observations: (3213, 1000, 11)\n",
      "    normed_actions: (3213, 1000, 3)\n"
     ]
    }
   ],
   "source": [
    "\n",
    "\n",
    "dataset = SequenceDataset(\n",
    "        env='hopper-medium-expert-v2',\n",
    "        horizon=20,\n",
    "        normalizer=CDFNormalizer,\n",
    "        preprocess_fns=[],\n",
    "        use_padding=True,\n",
    "        max_path_length=1000,\n",
    "        include_returns=True,\n",
    "        returns_scale=400,\n",
    "        discount=0.99,\n",
    "        termination_penalty=-100\n",
    "    )"
   ]
  },
  {
   "cell_type": "code",
   "execution_count": 13,
   "metadata": {},
   "outputs": [
    {
     "data": {
      "text/plain": [
       "array([[ 9.64311302e-01, -8.21179330e-01, -6.17705323e-02,\n",
       "        -2.22447738e-01,  9.08632576e-01,  9.70481157e-01,\n",
       "         1.52282685e-01, -8.13423991e-02, -9.89488840e-01,\n",
       "         8.57337192e-02, -4.68500555e-02,  6.28908649e-02,\n",
       "         1.73750132e-01, -6.26718029e-02],\n",
       "       [ 5.20325124e-01, -8.20882261e-01, -9.56216902e-02,\n",
       "        -2.23528057e-01,  9.03177977e-01,  9.71486449e-01,\n",
       "         1.00519158e-01, -8.19035694e-02, -9.98439550e-01,\n",
       "         5.96909076e-02, -4.51567471e-01,  1.19337805e-01,\n",
       "        -6.01345420e-01, -1.09693907e-01],\n",
       "       [ 2.57164150e-01, -6.05429649e-01, -3.05936784e-01,\n",
       "        -2.26932079e-01,  8.83479059e-01,  9.73087907e-01,\n",
       "        -8.33850168e-03, -8.38841647e-02, -9.99786913e-01,\n",
       "         3.04661393e-02, -7.76347876e-01,  9.77833346e-02,\n",
       "        -7.41893589e-01, -1.50256082e-01],\n",
       "       [ 7.49818921e-01, -7.86511958e-01, -4.43152934e-02,\n",
       "        -2.32668802e-01,  8.55526686e-01,  9.73904192e-01,\n",
       "        -1.17719315e-01, -8.93998221e-02, -9.99880970e-01,\n",
       "         9.13274009e-04, -8.64553392e-01,  7.45573640e-02,\n",
       "        -7.79211760e-01, -2.69631892e-01],\n",
       "       [ 9.03801143e-01,  1.66884065e-01, -3.40144038e-01,\n",
       "        -2.41133347e-01,  8.17392230e-01,  9.74361300e-01,\n",
       "        -2.12569773e-01, -9.51545462e-02, -9.99970019e-01,\n",
       "        -3.64309289e-02, -9.35859740e-01,  7.70771205e-02,\n",
       "        -8.35148573e-01, -2.79011697e-01],\n",
       "       [ 9.78083432e-01,  3.23930174e-01,  7.69256771e-01,\n",
       "        -2.51608491e-01,  7.69433856e-01,  9.75102544e-01,\n",
       "        -2.88679600e-01, -1.03528060e-01, -9.99900997e-01,\n",
       "        -6.96769059e-02, -8.72346699e-01,  8.17235187e-02,\n",
       "        -7.79553890e-01, -3.74213278e-01],\n",
       "       [ 9.59495842e-01,  7.62208626e-02,  7.90834248e-01,\n",
       "        -2.66602993e-01,  7.29245782e-01,  9.76128817e-01,\n",
       "        -3.36727023e-01, -1.10882267e-01, -9.99650896e-01,\n",
       "        -1.31833553e-01, -6.68056428e-01,  8.55486616e-02,\n",
       "        -6.82260692e-01, -2.27410227e-01],\n",
       "       [ 9.98933673e-01,  8.91601503e-01,  7.28312492e-01,\n",
       "        -2.93939173e-01,  7.03370988e-01,  9.77368236e-01,\n",
       "        -3.64947498e-01, -1.11253373e-01, -9.96974111e-01,\n",
       "        -1.89841956e-01, -3.97560269e-01,  8.42792839e-02,\n",
       "        -5.54414332e-01,  1.12233674e-02],\n",
       "       [ 9.96630013e-01,  9.50240076e-01, -2.56682009e-01,\n",
       "        -3.27353209e-01,  7.03798115e-01,  9.78687584e-01,\n",
       "        -3.68494540e-01, -1.04735419e-01, -9.74765420e-01,\n",
       "        -2.34265283e-01,  3.73808146e-01,  8.25087503e-02,\n",
       "         4.16285872e-01,  2.30243072e-01],\n",
       "       [ 9.89765942e-01,  7.94006228e-01, -2.35245571e-01,\n",
       "        -3.60607177e-01,  7.40579188e-01,  9.80096042e-01,\n",
       "        -3.38756621e-01, -9.63819176e-02, -9.65765715e-01,\n",
       "        -2.29900971e-01,  8.80688190e-01,  7.97829330e-02,\n",
       "         7.18247473e-01,  1.20841250e-01],\n",
       "       [ 9.94144261e-01,  5.86073816e-01, -4.23722118e-01,\n",
       "        -3.92526746e-01,  7.98013389e-01,  9.81562495e-01,\n",
       "        -2.74194270e-01, -9.06481966e-02, -9.59568858e-01,\n",
       "        -2.31624484e-01,  9.83865142e-01,  7.63218999e-02,\n",
       "         9.15708721e-01,  4.52555753e-02],\n",
       "       [ 9.99253750e-01, -3.00513148e-01, -4.71233368e-01,\n",
       "        -4.24590379e-01,  8.60217094e-01,  9.82944906e-01,\n",
       "        -1.60506159e-01, -8.86035785e-02, -9.54642415e-01,\n",
       "        -2.19900966e-01,  9.96253848e-01,  7.42372721e-02,\n",
       "         9.81571496e-01, -1.02687806e-01],\n",
       "       [ 9.98073399e-01,  3.22612792e-01, -2.43342996e-01,\n",
       "        -4.51041311e-01,  9.29214776e-01,  9.84481335e-01,\n",
       "         9.50365141e-02, -9.14024189e-02, -9.59490836e-01,\n",
       "        -1.90541163e-01,  9.96704996e-01,  7.52565786e-02,\n",
       "         9.86660004e-01, -2.56971091e-01],\n",
       "       [ 9.78486538e-01,  3.42446744e-01,  7.59285808e-01,\n",
       "        -4.66912061e-01,  9.65328574e-01,  9.86040831e-01,\n",
       "         9.62817848e-01, -9.65009481e-02, -9.94288266e-01,\n",
       "        -9.20856223e-02,  8.96818042e-01,  8.08692575e-02,\n",
       "         8.32603753e-01, -2.56801039e-01],\n",
       "       [ 9.79890943e-01, -3.38405520e-01,  6.04815423e-01,\n",
       "        -4.76297885e-01,  9.70999300e-01,  9.87208188e-01,\n",
       "         9.89701927e-01, -9.78743657e-02, -9.99709904e-01,\n",
       "        -2.42992900e-02,  2.45258585e-01,  7.57737309e-02,\n",
       "         4.71941590e-01, -1.91687513e-02],\n",
       "       [ 4.56952095e-01,  1.17841356e-01,  4.66194868e-01,\n",
       "        -4.82122630e-01,  9.71065342e-01,  9.87816334e-01,\n",
       "         9.90622163e-01, -9.37991366e-02, -9.99791920e-01,\n",
       "         2.30069011e-02, -2.36092821e-01,  6.97139129e-02,\n",
       "        -2.94001192e-01,  9.85285565e-02],\n",
       "       [ 9.30959284e-01,  4.12708819e-01, -9.53125954e-02,\n",
       "        -4.85130548e-01,  9.68920648e-01,  9.87341225e-01,\n",
       "         9.87956405e-01, -8.44843462e-02, -9.99688923e-01,\n",
       "         6.17015101e-02, -3.92545760e-01,  3.90697196e-02,\n",
       "        -5.01305401e-01,  1.88179448e-01],\n",
       "       [-5.71068347e-01,  4.21361417e-01,  5.29014707e-01,\n",
       "        -4.86015797e-01,  9.65786755e-01,  9.86269891e-01,\n",
       "         9.79829967e-01, -6.98799640e-02, -9.99574900e-01,\n",
       "         8.74582380e-02, -4.28044409e-01,  4.85005490e-02,\n",
       "        -5.27015090e-01,  9.99289751e-02],\n",
       "       [-2.91505456e-01,  3.85115534e-04, -4.60635185e-01,\n",
       "        -4.85044509e-01,  9.58696604e-01,  9.72224653e-01,\n",
       "         9.58825648e-01, -5.77813350e-02, -9.98796642e-01,\n",
       "         1.16859056e-01, -7.37269163e-01, -2.69282788e-01,\n",
       "        -5.17269194e-01,  2.20156044e-01],\n",
       "       [ 1.74721420e-01,  1.49156749e-01,  5.12746811e-01,\n",
       "        -4.82713819e-01,  9.40893292e-01,  9.63651121e-01,\n",
       "         9.21612501e-01, -4.94078211e-02, -9.99565899e-01,\n",
       "         1.29285783e-01, -8.38273466e-01, -3.62676799e-01,\n",
       "        -4.93460029e-01, -3.51705519e-03]], dtype=float32)"
      ]
     },
     "execution_count": 13,
     "metadata": {},
     "output_type": "execute_result"
    }
   ],
   "source": [
    "dataset[0].trajectories"
   ]
  },
  {
   "cell_type": "code",
   "execution_count": 22,
   "metadata": {},
   "outputs": [],
   "source": [
    "from torch.utils.data import DataLoader\n",
    "import matplotlib.pyplot as plt\n",
    "from corl.diffusers.sequence import SequenceDataset\n",
    "from corl.diffusers.normalization import CDFNormalizer\n",
    "\n",
    "loader = DataLoader(dataset, batch_size=1978328)"
   ]
  },
  {
   "cell_type": "code",
   "execution_count": 21,
   "metadata": {},
   "outputs": [
    {
     "data": {
      "text/plain": [
       "1978328"
      ]
     },
     "execution_count": 21,
     "metadata": {},
     "output_type": "execute_result"
    }
   ],
   "source": [
    "dataset.__len__()"
   ]
  },
  {
   "cell_type": "code",
   "execution_count": 28,
   "metadata": {},
   "outputs": [
    {
     "name": "stderr",
     "output_type": "stream",
     "text": [
      "load datafile:   0%|          | 0/21 [00:00<?, ?it/s]"
     ]
    },
    {
     "name": "stderr",
     "output_type": "stream",
     "text": [
      "load datafile: 100%|██████████| 21/21 [00:02<00:00,  9.40it/s]\n"
     ]
    },
    {
     "name": "stdout",
     "output_type": "stream",
     "text": [
      "[ datasets/buffer ] Finalized replay buffer | 1000 episodes\n",
      "[ datasets/buffer ] Fields:\n",
      "    actions: (1000, 1000, 6)\n",
      "    infos/action_log_probs: (1000, 1000, 1)\n",
      "    infos/qpos: (1000, 1000, 9)\n",
      "    infos/qvel: (1000, 1000, 9)\n",
      "    next_observations: (1000, 1000, 17)\n",
      "    observations: (1000, 1000, 17)\n",
      "    rewards: (1000, 1000, 1)\n",
      "    terminals: (1000, 1000, 1)\n",
      "    timeouts: (1000, 1000, 1)\n",
      "    normed_observations: (1000, 1000, 17)\n",
      "    normed_actions: (1000, 1000, 6)\n",
      "tensor(1.1207)\n",
      "tensor(0.2381)\n",
      "tensor(-0.1044)\n",
      "tensor(1.4823)\n"
     ]
    },
    {
     "data": {
      "text/plain": [
       "(array([2.2800e+02, 1.5740e+03, 2.0160e+03, 1.2610e+03, 4.3800e+02,\n",
       "        2.9600e+02, 4.1000e+01, 2.9000e+01, 3.5000e+01, 3.5000e+01,\n",
       "        3.2000e+01, 2.8000e+01, 2.6000e+01, 2.6000e+01, 3.1000e+01,\n",
       "        4.6000e+01, 7.5000e+01, 1.2900e+02, 2.2600e+02, 3.8000e+02,\n",
       "        6.2000e+02, 9.2300e+02, 1.2770e+03, 1.5270e+03, 1.6080e+03,\n",
       "        1.7110e+03, 1.7000e+03, 1.7690e+03, 1.8180e+03, 1.8560e+03,\n",
       "        1.8680e+03, 1.8960e+03, 1.9400e+03, 2.0580e+03, 2.0710e+03,\n",
       "        2.0560e+03, 2.1450e+03, 2.1660e+03, 2.2400e+03, 2.2740e+03,\n",
       "        2.3840e+03, 2.4360e+03, 2.4730e+03, 2.5090e+03, 2.5860e+03,\n",
       "        2.6660e+03, 2.6840e+03, 2.8750e+03, 2.9830e+03, 3.0420e+03,\n",
       "        3.2230e+03, 3.3200e+03, 3.5030e+03, 3.5180e+03, 3.6850e+03,\n",
       "        3.7240e+03, 3.8850e+03, 4.1380e+03, 4.3620e+03, 4.6330e+03,\n",
       "        5.0770e+03, 5.0560e+03, 5.5100e+03, 5.8520e+03, 6.5440e+03,\n",
       "        7.2990e+03, 7.9030e+03, 8.9640e+03, 9.9280e+03, 1.0794e+04,\n",
       "        1.1739e+04, 1.3491e+04, 1.5810e+04, 1.7707e+04, 1.9990e+04,\n",
       "        2.3485e+04, 2.6653e+04, 2.9819e+04, 3.4242e+04, 3.9185e+04,\n",
       "        4.3668e+04, 4.6638e+04, 5.0136e+04, 5.3237e+04, 5.4359e+04,\n",
       "        5.5523e+04, 5.5007e+04, 5.0667e+04, 4.4242e+04, 3.7709e+04,\n",
       "        2.8745e+04, 1.9393e+04, 1.2398e+04, 7.2670e+03, 4.6170e+03,\n",
       "        2.3140e+03, 1.1320e+03, 5.6800e+02, 1.7100e+02, 5.7000e+01]),\n",
       " array([-0.1044032 , -0.08853597, -0.07266875, -0.05680153, -0.04093431,\n",
       "        -0.02506708, -0.00919986,  0.00666736,  0.02253459,  0.03840181,\n",
       "         0.05426903,  0.07013626,  0.08600348,  0.1018707 ,  0.11773793,\n",
       "         0.13360515,  0.14947237,  0.16533959,  0.18120682,  0.19707404,\n",
       "         0.21294126,  0.22880849,  0.24467571,  0.26054293,  0.27641016,\n",
       "         0.2922774 ,  0.3081446 ,  0.32401183,  0.33987904,  0.35574627,\n",
       "         0.3716135 ,  0.3874807 ,  0.40334794,  0.41921517,  0.43508238,\n",
       "         0.4509496 ,  0.46681684,  0.48268405,  0.49855128,  0.5144185 ,\n",
       "         0.5302857 ,  0.54615295,  0.5620202 ,  0.5778874 ,  0.59375465,\n",
       "         0.6096218 ,  0.62548906,  0.6413563 ,  0.6572235 ,  0.67309076,\n",
       "         0.6889579 ,  0.70482516,  0.7206924 ,  0.7365596 ,  0.75242686,\n",
       "         0.7682941 ,  0.78416127,  0.8000285 ,  0.81589574,  0.83176297,\n",
       "         0.8476302 ,  0.86349744,  0.8793646 ,  0.89523184,  0.9110991 ,\n",
       "         0.9269663 ,  0.94283354,  0.9587008 ,  0.97456795,  0.9904352 ,\n",
       "         1.0063025 ,  1.0221696 ,  1.0380368 ,  1.053904  ,  1.0697713 ,\n",
       "         1.0856385 ,  1.1015058 ,  1.117373  ,  1.1332402 ,  1.1491075 ,\n",
       "         1.1649747 ,  1.1808419 ,  1.1967092 ,  1.2125763 ,  1.2284435 ,\n",
       "         1.2443107 ,  1.260178  ,  1.2760452 ,  1.2919124 ,  1.3077797 ,\n",
       "         1.3236469 ,  1.3395141 ,  1.3553814 ,  1.3712486 ,  1.3871158 ,\n",
       "         1.402983  ,  1.4188502 ,  1.4347174 ,  1.4505847 ,  1.4664519 ,\n",
       "         1.4823191 ], dtype=float32),\n",
       " <BarContainer object of 100 artists>)"
      ]
     },
     "execution_count": 28,
     "metadata": {},
     "output_type": "execute_result"
    },
    {
     "data": {
      "image/png": "[encoded data removed]",
      "text/plain": [
       "<Figure size 640x480 with 1 Axes>"
      ]
     },
     "metadata": {},
     "output_type": "display_data"
    }
   ],
   "source": [
    "dataset = SequenceDataset(\n",
    "        env='halfcheetah-medium-v2',\n",
    "        horizon=20,\n",
    "        normalizer=CDFNormalizer,\n",
    "        preprocess_fns=[],\n",
    "        use_padding=True,\n",
    "        max_path_length=1000,\n",
    "        include_returns=True,\n",
    "        returns_scale=400,\n",
    "        discount=0.99,\n",
    "        termination_penalty=-100\n",
    "    )\n",
    "loader = DataLoader(dataset, batch_size=dataset.__len__())\n",
    "for item in loader:\n",
    "    print(item.returns.mean())\n",
    "    print(item.returns.std())\n",
    "    print(item.returns.min())\n",
    "    print(item.returns.max())\n",
    "    break\n",
    "returns = item.returns.detach().numpy()\n",
    "plt.hist(returns, bins=100)"
   ]
  },
  {
   "cell_type": "code",
   "execution_count": 24,
   "metadata": {},
   "outputs": [],
   "source": []
  },
  {
   "cell_type": "code",
   "execution_count": 27,
   "metadata": {},
   "outputs": [
    {
     "data": {
      "text/plain": [
       "(array([2.23400e+03, 2.19700e+03, 2.27600e+03, 2.27500e+03, 2.29200e+03,\n",
       "        2.29300e+03, 2.29700e+03, 2.29400e+03, 2.30400e+03, 2.33300e+03,\n",
       "        2.38200e+03, 2.38400e+03, 2.42900e+03, 2.45100e+03, 2.46900e+03,\n",
       "        2.51000e+03, 2.58500e+03, 2.65600e+03, 2.70900e+03, 2.76300e+03,\n",
       "        2.79700e+03, 2.86200e+03, 2.88000e+03, 2.93300e+03, 2.95500e+03,\n",
       "        3.00100e+03, 3.00800e+03, 3.05200e+03, 3.10400e+03, 3.15500e+03,\n",
       "        3.34800e+03, 4.03100e+03, 4.64000e+03, 4.89500e+03, 4.95800e+03,\n",
       "        5.09300e+03, 5.11200e+03, 5.25800e+03, 5.36000e+03, 5.48900e+03,\n",
       "        5.63300e+03, 5.78800e+03, 6.02700e+03, 6.10600e+03, 6.38100e+03,\n",
       "        6.48800e+03, 6.68300e+03, 6.98400e+03, 7.39700e+03, 7.48300e+03,\n",
       "        7.64600e+03, 7.45700e+03, 7.61200e+03, 7.92000e+03, 8.28700e+03,\n",
       "        8.75100e+03, 9.26000e+03, 9.98300e+03, 1.10780e+04, 1.25210e+04,\n",
       "        1.45130e+04, 1.70910e+04, 2.02220e+04, 2.33510e+04, 2.54120e+04,\n",
       "        2.70630e+04, 2.85570e+04, 3.03030e+04, 3.31990e+04, 3.64660e+04,\n",
       "        3.99300e+04, 4.25210e+04, 4.38220e+04, 4.54980e+04, 5.09550e+04,\n",
       "        5.24510e+04, 5.48890e+04, 6.17290e+04, 6.40070e+04, 6.26640e+04,\n",
       "        5.58400e+04, 4.65490e+04, 3.84180e+04, 3.36780e+04, 3.23760e+04,\n",
       "        3.29900e+04, 2.78600e+04, 3.62490e+04, 5.97280e+04, 1.12003e+05,\n",
       "        1.50224e+05, 1.22970e+05, 7.71430e+04, 5.18960e+04, 2.75660e+04,\n",
       "        1.22120e+04, 3.38400e+03, 7.75000e+02, 1.90000e+02, 8.50000e+01]),\n",
       " array([-0.23469532, -0.22192578, -0.20915624, -0.19638672, -0.18361719,\n",
       "        -0.17084765, -0.15807812, -0.14530858, -0.13253906, -0.11976953,\n",
       "        -0.10699999, -0.09423046, -0.08146093, -0.0686914 , -0.05592186,\n",
       "        -0.04315233, -0.0303828 , -0.01761327, -0.00484374,  0.0079258 ,\n",
       "         0.02069533,  0.03346486,  0.04623439,  0.05900393,  0.07177345,\n",
       "         0.08454299,  0.09731252,  0.11008205,  0.12285159,  0.13562112,\n",
       "         0.14839065,  0.16116019,  0.17392972,  0.18669924,  0.19946878,\n",
       "         0.21223831,  0.22500785,  0.23777738,  0.2505469 ,  0.26331645,\n",
       "         0.27608597,  0.2888555 ,  0.30162504,  0.31439456,  0.3271641 ,\n",
       "         0.33993363,  0.35270315,  0.3654727 ,  0.37824222,  0.39101177,\n",
       "         0.4037813 ,  0.41655082,  0.42932037,  0.4420899 ,  0.45485944,\n",
       "         0.46762896,  0.48039848,  0.49316803,  0.5059376 ,  0.5187071 ,\n",
       "         0.5314766 ,  0.54424614,  0.55701566,  0.56978524,  0.58255476,\n",
       "         0.5953243 ,  0.6080938 ,  0.6208633 ,  0.6336329 ,  0.6464024 ,\n",
       "         0.65917194,  0.67194146,  0.684711  ,  0.69748056,  0.7102501 ,\n",
       "         0.7230196 ,  0.7357891 ,  0.74855864,  0.7613282 ,  0.77409774,\n",
       "         0.78686726,  0.7996368 ,  0.8124063 ,  0.8251759 ,  0.8379454 ,\n",
       "         0.8507149 ,  0.86348444,  0.87625396,  0.88902354,  0.90179306,\n",
       "         0.9145626 ,  0.9273321 ,  0.9401016 ,  0.9528712 ,  0.9656407 ,\n",
       "         0.97841024,  0.99117976,  1.0039493 ,  1.0167189 ,  1.0294883 ,\n",
       "         1.0422579 ], dtype=float32),\n",
       " <BarContainer object of 100 artists>)"
      ]
     },
     "execution_count": 27,
     "metadata": {},
     "output_type": "execute_result"
    },
    {
     "data": {
      "image/png": "[encoded data removed]",
      "text/plain": [
       "<Figure size 640x480 with 1 Axes>"
      ]
     },
     "metadata": {},
     "output_type": "display_data"
    }
   ],
   "source": [
    "\n"
   ]
  },
  {
   "cell_type": "code",
   "execution_count": null,
   "metadata": {},
   "outputs": [],
   "source": []
  },
  {
   "cell_type": "code",
   "execution_count": 16,
   "metadata": {},
   "outputs": [
    {
     "ename": "ValueError",
     "evalue": "not enough values to unpack (expected 3, got 2)",
     "output_type": "error",
     "traceback": [
      "\u001b[0;31m---------------------------------------------------------------------------\u001b[0m",
      "\u001b[0;31mValueError\u001b[0m                                Traceback (most recent call last)",
      "\u001b[0;32m/tmp/ipykernel_3841385/1619572869.py\u001b[0m in \u001b[0;36m<module>\u001b[0;34m\u001b[0m\n\u001b[0;32m----> 1\u001b[0;31m \u001b[0mdataset\u001b[0m\u001b[0;34m[\u001b[0m\u001b[0;36m3\u001b[0m\u001b[0;34m:\u001b[0m\u001b[0;36m5\u001b[0m\u001b[0;34m]\u001b[0m\u001b[0;34m.\u001b[0m\u001b[0mreturns\u001b[0m\u001b[0;34m\u001b[0m\u001b[0;34m\u001b[0m\u001b[0m\n\u001b[0m",
      "\u001b[0;32m/mnt/HDD/jaewoo/practices/diffusers/Augmentation-For-OfflineRL/corl/diffusers/sequence.py\u001b[0m in \u001b[0;36m__getitem__\u001b[0;34m(self, idx, eps)\u001b[0m\n\u001b[1;32m     89\u001b[0m \u001b[0;34m\u001b[0m\u001b[0m\n\u001b[1;32m     90\u001b[0m     \u001b[0;32mdef\u001b[0m \u001b[0m__getitem__\u001b[0m\u001b[0;34m(\u001b[0m\u001b[0mself\u001b[0m\u001b[0;34m,\u001b[0m \u001b[0midx\u001b[0m\u001b[0;34m,\u001b[0m \u001b[0meps\u001b[0m\u001b[0;34m=\u001b[0m\u001b[0;36m1e-4\u001b[0m\u001b[0;34m)\u001b[0m\u001b[0;34m:\u001b[0m\u001b[0;34m\u001b[0m\u001b[0;34m\u001b[0m\u001b[0m\n\u001b[0;32m---> 91\u001b[0;31m         \u001b[0mpath_ind\u001b[0m\u001b[0;34m,\u001b[0m \u001b[0mstart\u001b[0m\u001b[0;34m,\u001b[0m \u001b[0mend\u001b[0m \u001b[0;34m=\u001b[0m \u001b[0mself\u001b[0m\u001b[0;34m.\u001b[0m\u001b[0mindices\u001b[0m\u001b[0;34m[\u001b[0m\u001b[0midx\u001b[0m\u001b[0;34m]\u001b[0m\u001b[0;34m\u001b[0m\u001b[0;34m\u001b[0m\u001b[0m\n\u001b[0m\u001b[1;32m     92\u001b[0m \u001b[0;34m\u001b[0m\u001b[0m\n\u001b[1;32m     93\u001b[0m         \u001b[0mobservations\u001b[0m \u001b[0;34m=\u001b[0m \u001b[0mself\u001b[0m\u001b[0;34m.\u001b[0m\u001b[0mfields\u001b[0m\u001b[0;34m.\u001b[0m\u001b[0mnormed_observations\u001b[0m\u001b[0;34m[\u001b[0m\u001b[0mpath_ind\u001b[0m\u001b[0;34m,\u001b[0m \u001b[0mstart\u001b[0m\u001b[0;34m:\u001b[0m\u001b[0mend\u001b[0m\u001b[0;34m]\u001b[0m\u001b[0;34m\u001b[0m\u001b[0;34m\u001b[0m\u001b[0m\n",
      "\u001b[0;31mValueError\u001b[0m: not enough values to unpack (expected 3, got 2)"
     ]
    }
   ],
   "source": [
    "dataset[3:5].returns"
   ]
  },
  {
   "cell_type": "code",
   "execution_count": 35,
   "metadata": {},
   "outputs": [],
   "source": [
    "import numpy as np\n",
    "data = np.load(\"/home/jaewoo/practices/diffusers/Augmentation-For-OfflineRL/data/generated_data/5M-1_1x-temporalattention-50-sar.npy\", allow_pickle=True)"
   ]
  },
  {
   "cell_type": "code",
   "execution_count": 52,
   "metadata": {},
   "outputs": [
    {
     "data": {
      "text/plain": [
       "{'modelled_terminals': True,\n",
       " 'make_inputs': {'modelled_terminals': {'modelled_terminals': None}},\n",
       " 'split_diffusion_samples': {'modelled_terminals': {'modelled_terminals': None},\n",
       "  'terminal_threshold': 0.5},\n",
       " 'construct_diffusion_model': {'normalizer_type': 'standard',\n",
       "  'denoising_network': {'_target_': 'src.diffusion.denoiser_network.temporal_attention.TemporalUnet',\n",
       "   'horizon': 32,\n",
       "   'd_in': 4,\n",
       "   'dim': 128,\n",
       "   'cond_dim': 1,\n",
       "   'condition_dropout': 0.25,\n",
       "   'use_dropout': True,\n",
       "   'force_dropout': False,\n",
       "   'learned_sinusoidal_cond': False,\n",
       "   'random_fourier_features': True,\n",
       "   'learned_sinusoidal_dim': 16},\n",
       "  'disable_terminal_norm': True},\n",
       " 'ElucidatedDiffusion': {'num_sample_steps': 128,\n",
       "  'sigma_data': 1.0,\n",
       "  'S_churn': 80,\n",
       "  'S_tmin': 0.05,\n",
       "  'S_tmax': 50,\n",
       "  'S_noise': 1.003},\n",
       " 'Trainer': {'train_batch_size': 255,\n",
       "  'train_lr': 0.0003,\n",
       "  'lr_scheduler': 'cosinewarmup',\n",
       "  'weight_decay': 0,\n",
       "  'train_num_steps': 1000000,\n",
       "  'save_and_sample_every': 10000},\n",
       " 'SimpleDiffusionGenerator': {'num_sample_steps': 128,\n",
       "  'sample_batch_size': 100000,\n",
       "  'guidance_rewardscale': 1.1,\n",
       "  'noise_level': 0.5},\n",
       " 'Dataset': {'seq_len': 32,\n",
       "  'reward_scale': 0.001,\n",
       "  'batch_size': 255,\n",
       "  'num_workers': 4,\n",
       "  'normalizer_type': 'standard',\n",
       "  'modalities': ['observations', 'actions', 'rewards']}}"
      ]
     },
     "execution_count": 52,
     "metadata": {},
     "output_type": "execute_result"
    }
   ],
   "source": [
    "data[-1]"
   ]
  },
  {
   "cell_type": "code",
   "execution_count": 70,
   "metadata": {},
   "outputs": [],
   "source": [
    "diffusion_horizon = data[-1]['construct_diffusion_model']['denoising_network']['horizon']\n",
    "diffusion_backborn = data[-1]['construct_diffusion_model']['denoising_network']['_target_'].split('.')[-1]\n",
    "conditioned = True if data[-1]['construct_diffusion_model']['denoising_network']['cond_dim'] != 0 else False\n",
    "if data[-1]['Dataset']['modalities'].__len__() == 3:\n",
    "    generation_type = 's,a,r'\n",
    "elif data[-1]['Dataset']['modalities'].__len__() == 2:\n",
    "    generation_type = 's,a'\n",
    "elif data[-1]['Dataset']['modalities'].__len__() == 3:\n",
    "    generation_type = 's'\n",
    "else:\n",
    "    raise ValueError()\n",
    "guidance_temperature = 1\n",
    "guidance_target_multiple = data[-1]['SimpleDiffusionGenerator']['guidance_rewardscale']\n",
    "noise_level = data[-1]['SimpleDiffusionGenerator']['noise_level']"
   ]
  },
  {
   "cell_type": "code",
   "execution_count": 74,
   "metadata": {},
   "outputs": [
    {
     "data": {
      "text/plain": [
       "dict_keys(['modelled_terminals', 'make_inputs', 'split_diffusion_samples', 'construct_diffusion_model', 'ElucidatedDiffusion', 'Trainer', 'SimpleDiffusionGenerator', 'Dataset'])"
      ]
     },
     "execution_count": 74,
     "metadata": {},
     "output_type": "execute_result"
    }
   ],
   "source": [
    "data[-1].keys()"
   ]
  },
  {
   "cell_type": "code",
   "execution_count": 76,
   "metadata": {},
   "outputs": [],
   "source": [
    "aa = np.random.randn(10000,100)"
   ]
  },
  {
   "cell_type": "code",
   "execution_count": null,
   "metadata": {},
   "outputs": [],
   "source": [
    "aa"
   ]
  }
 ],
 "metadata": {
  "kernelspec": {
   "display_name": "augmentation",
   "language": "python",
   "name": "python3"
  },
  "language_info": {
   "codemirror_mode": {
    "name": "ipython",
    "version": 3
   },
   "file_extension": ".py",
   "mimetype": "text/x-python",
   "name": "python",
   "nbconvert_exporter": "python",
   "pygments_lexer": "ipython3",
   "version": "3.7.12"
  },
  "orig_nbformat": 4
 },
 "nbformat": 4,
 "nbformat_minor": 2
}
